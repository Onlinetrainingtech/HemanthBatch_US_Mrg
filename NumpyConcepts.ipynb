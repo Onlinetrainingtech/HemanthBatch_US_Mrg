{
 "cells": [
  {
   "cell_type": "code",
   "execution_count": 1,
   "id": "940a9261-62e7-4e71-af18-6e5c0fa158a2",
   "metadata": {},
   "outputs": [
    {
     "name": "stdout",
     "output_type": "stream",
     "text": [
      "Requirement already satisfied: numpy in c:\\users\\mohamedazar\\anaconda3\\lib\\site-packages (1.26.4)\n"
     ]
    }
   ],
   "source": [
    "!pip install numpy"
   ]
  },
  {
   "cell_type": "code",
   "execution_count": 3,
   "id": "a3ac4caa-de46-4376-8912-02df22fb5450",
   "metadata": {},
   "outputs": [],
   "source": [
    "import numpy as np"
   ]
  },
  {
   "cell_type": "code",
   "execution_count": 5,
   "id": "47064c14-34b9-4206-82a0-3627119d85fc",
   "metadata": {
    "panel-layout": {
     "height": 9.5367431640625e-07,
     "visible": true,
     "width": 100
    }
   },
   "outputs": [
    {
     "name": "stdout",
     "output_type": "stream",
     "text": [
      "[10 20 30 40]\n",
      "<class 'numpy.ndarray'>\n",
      "1.26.4\n"
     ]
    }
   ],
   "source": [
    "arr=np.array([10,20,30,40])\n",
    "print(arr)\n",
    "print(type(arr))\n",
    "print(np.__version__)"
   ]
  },
  {
   "cell_type": "code",
   "execution_count": null,
   "id": "a71f4aac-8776-4fef-9a27-0bae0d56fb70",
   "metadata": {},
   "outputs": [],
   "source": [
    "#Dimenstion in  Array"
   ]
  },
  {
   "cell_type": "code",
   "execution_count": 9,
   "id": "64bfccf2-1847-4e14-901b-c85bfb3406f0",
   "metadata": {
    "panel-layout": {
     "height": 9.5367431640625e-07,
     "visible": true,
     "width": 100
    }
   },
   "outputs": [
    {
     "name": "stdout",
     "output_type": "stream",
     "text": [
      "10\n",
      "0\n",
      "[10 20 30 40]\n",
      "1\n",
      "[[1 2 3]\n",
      " [4 5 6]]\n",
      "2\n"
     ]
    }
   ],
   "source": [
    "arr=np.array(10)\n",
    "print(arr)\n",
    "print(arr.ndim)\n",
    "arr1=np.array([10,20,30,40])\n",
    "print(arr1)\n",
    "print(arr1.ndim)\n",
    "arr2=np.array([[1,2,3],[4,5,6]])\n",
    "print(arr2)\n",
    "print(arr2.ndim)"
   ]
  },
  {
   "cell_type": "code",
   "execution_count": 15,
   "id": "07b99a1a-96ca-4dac-8f3f-7c53a5b6a4b7",
   "metadata": {
    "panel-layout": {
     "height": 9.5367431640625e-07,
     "visible": true,
     "width": 100
    }
   },
   "outputs": [
    {
     "name": "stdout",
     "output_type": "stream",
     "text": [
      "[[[[[[[[[[1 2 3 4]]]]]]]]]]\n",
      "Number of dimensions:: 10\n"
     ]
    }
   ],
   "source": [
    "arr4=np.array([1,2,3,4],ndmin=10)\n",
    "print(arr4)\n",
    "print(\"Number of dimensions::\",arr4.ndim)"
   ]
  },
  {
   "cell_type": "code",
   "execution_count": 19,
   "id": "9e228639-8e45-4acf-93b3-3310802a626d",
   "metadata": {
    "panel-layout": {
     "height": 9.5367431640625e-07,
     "visible": true,
     "width": 100
    }
   },
   "outputs": [
    {
     "name": "stdout",
     "output_type": "stream",
     "text": [
      "[10 20 30 40]\n",
      "10\n",
      "[10 20 30]\n",
      "[20 30]\n",
      "[10 30]\n",
      "30\n"
     ]
    }
   ],
   "source": [
    "#Access the array element\n",
    "print(arr1)\n",
    "print(arr1[0])\n",
    "print(arr1[0:3])\n",
    "print(arr1[-3:-1])\n",
    "print(arr1[::2])\n",
    "print(arr1[0]+arr1[1])"
   ]
  },
  {
   "cell_type": "code",
   "execution_count": 23,
   "id": "bcbc0e1e-7e58-442e-bc74-3fe11b133a9a",
   "metadata": {
    "panel-layout": {
     "height": 9.5367431640625e-07,
     "visible": true,
     "width": 100
    }
   },
   "outputs": [
    {
     "name": "stdout",
     "output_type": "stream",
     "text": [
      "[42 20 30 40]\n",
      "[10 20 30 40]\n"
     ]
    }
   ],
   "source": [
    "#Copy \n",
    "arr=np.array([10,20,30,40])\n",
    "x=arr.copy()\n",
    "arr[0]=42\n",
    "print(arr)\n",
    "print(x)"
   ]
  },
  {
   "cell_type": "code",
   "execution_count": 25,
   "id": "915d6047-79d5-43be-b265-c0a22f80daf5",
   "metadata": {
    "panel-layout": {
     "height": 9.5367431640625e-07,
     "visible": true,
     "width": 100
    }
   },
   "outputs": [
    {
     "name": "stdout",
     "output_type": "stream",
     "text": [
      "(4,)\n"
     ]
    }
   ],
   "source": [
    "print(arr.shape)"
   ]
  },
  {
   "cell_type": "code",
   "execution_count": 27,
   "id": "7cde9549-ea5e-45cf-bddd-b2d0393e7b7f",
   "metadata": {
    "panel-layout": {
     "height": 9.5367431640625e-07,
     "visible": true,
     "width": 100
    }
   },
   "outputs": [
    {
     "name": "stdout",
     "output_type": "stream",
     "text": [
      "[[ 1  2  3]\n",
      " [ 4  5  6]\n",
      " [ 7  8  9]\n",
      " [10 11 12]]\n"
     ]
    }
   ],
   "source": [
    "#Reshaping from 1d and 2d array\n",
    "arr=np.array([1,2,3,4,5,6,7,8,9,10,11,12])\n",
    "newarr=arr.reshape(4,3)\n",
    "print(newarr)"
   ]
  },
  {
   "cell_type": "code",
   "execution_count": 29,
   "id": "abaca48f-1e27-454c-9a23-90d9715ee8ec",
   "metadata": {},
   "outputs": [
    {
     "name": "stdout",
     "output_type": "stream",
     "text": [
      "1\n",
      "2\n",
      "3\n"
     ]
    }
   ],
   "source": [
    "arr=np.array([1,2,3])\n",
    "for x in arr:\n",
    "    print(x)"
   ]
  },
  {
   "cell_type": "code",
   "execution_count": 31,
   "id": "c9e3abea-e022-49f2-9473-ee3c4927655b",
   "metadata": {},
   "outputs": [
    {
     "name": "stdout",
     "output_type": "stream",
     "text": [
      "1\n",
      "2\n",
      "3\n",
      "4\n",
      "5\n",
      "6\n"
     ]
    }
   ],
   "source": [
    "arr=np.array([[1,2,3],[4,5,6]])\n",
    "for x in arr:\n",
    "    for y in x:\n",
    "        print(y)"
   ]
  },
  {
   "cell_type": "code",
   "execution_count": 33,
   "id": "e46bc6ee-711a-4aa6-9f38-449795ff211c",
   "metadata": {
    "panel-layout": {
     "height": 9.5367431640625e-07,
     "visible": true,
     "width": 100
    }
   },
   "outputs": [
    {
     "name": "stdout",
     "output_type": "stream",
     "text": [
      "[1 2 3 4 5 6]\n"
     ]
    }
   ],
   "source": [
    "arr1=np.array([1,2,3])\n",
    "arr2=np.array([4,5,6])\n",
    "arr=np.concatenate((arr1,arr2))\n",
    "print(arr)"
   ]
  },
  {
   "cell_type": "code",
   "execution_count": null,
   "id": "40f199be-b22a-4f4c-b3f1-f1eca0108f35",
   "metadata": {},
   "outputs": [],
   "source": [
    "#Stack Function\n",
    "#Stacking is same as concatenation the only difference is that stacking is done along as new axis"
   ]
  },
  {
   "cell_type": "code",
   "execution_count": 39,
   "id": "9976536c-35cf-440d-839c-6205908ddac8",
   "metadata": {
    "panel-layout": {
     "height": 9.5367431640625e-07,
     "visible": true,
     "width": 100
    }
   },
   "outputs": [
    {
     "name": "stdout",
     "output_type": "stream",
     "text": [
      "[[1 4]\n",
      " [2 5]\n",
      " [3 6]]\n"
     ]
    }
   ],
   "source": [
    "arr1=np.array([1,2,3])\n",
    "arr2=np.array([4,5,6])\n",
    "arr=np.stack((arr1,arr2),axis=1)\n",
    "print(arr)"
   ]
  },
  {
   "cell_type": "code",
   "execution_count": 45,
   "id": "06eecd71-5fce-43a6-8331-3756ec6a7b56",
   "metadata": {
    "panel-layout": {
     "height": 9.5367431640625e-07,
     "visible": true,
     "width": 100
    }
   },
   "outputs": [
    {
     "name": "stdout",
     "output_type": "stream",
     "text": [
      "[[1 2 3]\n",
      " [4 5 6]]\n"
     ]
    }
   ],
   "source": [
    "#Stack along with rows\n",
    "arr1=np.array([1,2,3])\n",
    "arr2=np.array([4,5,6])\n",
    "# arr=np.hstack((arr1,arr2))\n",
    "arr=np.vstack((arr1,arr2))\n",
    "print(arr)"
   ]
  },
  {
   "cell_type": "code",
   "execution_count": 47,
   "id": "c6a3ed7b-5290-4a4a-9a98-1ba0f6809e64",
   "metadata": {
    "panel-layout": {
     "height": 9.5367431640625e-07,
     "visible": true,
     "width": 100
    }
   },
   "outputs": [
    {
     "name": "stdout",
     "output_type": "stream",
     "text": [
      "[[[1 4]\n",
      "  [2 5]\n",
      "  [3 6]]]\n"
     ]
    }
   ],
   "source": [
    "#Stack along with rows\n",
    "arr1=np.array([1,2,3])\n",
    "arr2=np.array([4,5,6])\n",
    "arr=np.dstack((arr1,arr2))\n",
    "print(arr)"
   ]
  },
  {
   "cell_type": "code",
   "execution_count": 49,
   "id": "3be7507c-2b40-4c9b-bbbf-ea448e17f92a",
   "metadata": {
    "panel-layout": {
     "height": 9.5367431640625e-07,
     "visible": true,
     "width": 100
    }
   },
   "outputs": [
    {
     "name": "stdout",
     "output_type": "stream",
     "text": [
      "[41 43 44]\n"
     ]
    }
   ],
   "source": [
    "#Filtering Array\n",
    "arr=np.array([41,42,43,44])\n",
    "x=[True,False,True,True]\n",
    "newarr=arr[x]\n",
    "print(newarr)"
   ]
  },
  {
   "cell_type": "code",
   "execution_count": 63,
   "id": "8abe65ee-419f-4d0a-a220-53c92cb20024",
   "metadata": {
    "panel-layout": {
     "height": 44.2833366394043,
     "visible": true,
     "width": 100
    }
   },
   "outputs": [
    {
     "data": {
      "text/plain": [
       "array([[85, 51, 11, 52, 53, 22,  1, 63, 70, 47],\n",
       "       [71,  6, 46,  6, 49,  5, 40, 81, 34, 48]])"
      ]
     },
     "execution_count": 63,
     "metadata": {},
     "output_type": "execute_result"
    }
   ],
   "source": [
    "#Generate the Random Number\n",
    "from numpy import random\n",
    "x=random.randint(100,size=(2,10))\n",
    "x"
   ]
  },
  {
   "cell_type": "code",
   "execution_count": 101,
   "id": "f3b48038-0c56-47d5-9b9d-a57b0c2df30c",
   "metadata": {
    "panel-layout": {
     "height": 9.5367431640625e-07,
     "visible": true,
     "width": 100
    }
   },
   "outputs": [
    {
     "name": "stdout",
     "output_type": "stream",
     "text": [
      "[[10 20 20 10 40]\n",
      " [40 40 20 40 40]\n",
      " [20 40 30 10 20]]\n"
     ]
    }
   ],
   "source": [
    "#Choice methods allows you to generate a random values based on an array of values\n",
    "from numpy import random\n",
    "x=random.choice([10,20,30,40],size=(3,5))\n",
    "print(x)"
   ]
  },
  {
   "cell_type": "code",
   "execution_count": null,
   "id": "ec193a20-6ec6-42d5-946d-dce7553a8a8b",
   "metadata": {},
   "outputs": [],
   "source": [
    "#Shuffing arrays\n",
    "#Shuffing means changing arragement of elements in-place  i.e)in the array"
   ]
  },
  {
   "cell_type": "code",
   "execution_count": 112,
   "id": "b724bbca-7482-43db-b6c3-0679149b5bb2",
   "metadata": {
    "panel-layout": {
     "height": 9.5367431640625e-07,
     "visible": true,
     "width": 100
    }
   },
   "outputs": [
    {
     "name": "stdout",
     "output_type": "stream",
     "text": [
      "[1 2 3 4 5]\n"
     ]
    }
   ],
   "source": [
    "from numpy import random\n",
    "import numpy as np\n",
    "arr=np.array([1,2,3,4,5])\n",
    "random.shuffle(arr)\n",
    "print(arr)"
   ]
  },
  {
   "cell_type": "code",
   "execution_count": 124,
   "id": "21bc4a1a-fae7-4602-ad6a-a500813a7f22",
   "metadata": {
    "panel-layout": {
     "height": 9.5367431640625e-07,
     "visible": true,
     "width": 100
    }
   },
   "outputs": [
    {
     "name": "stdout",
     "output_type": "stream",
     "text": [
      "[1 3 5 4 2]\n"
     ]
    }
   ],
   "source": [
    "#Permutation methods return a re-arraged array and leave the original array unchanged\n",
    "arr1=np.array([1,2,3,4,5])\n",
    "print(random.permutation(arr1))"
   ]
  },
  {
   "cell_type": "code",
   "execution_count": 126,
   "id": "435d095c-9eb1-4d28-922a-1ce11a49cc95",
   "metadata": {
    "panel-layout": {
     "height": 78.5666732788086,
     "visible": true,
     "width": 100
    }
   },
   "outputs": [
    {
     "data": {
      "text/plain": [
       "array([10, 11, 12, 13, 14, 15, 16, 17, 18, 19, 20, 21, 22, 23, 24, 25, 26,\n",
       "       27, 28, 29, 30, 31, 32, 33, 34, 35, 36, 37, 38, 39, 40, 41, 42, 43,\n",
       "       44, 45, 46, 47, 48, 49, 50, 51, 52, 53, 54, 55, 56, 57, 58, 59, 60,\n",
       "       61, 62, 63, 64, 65, 66, 67, 68, 69, 70, 71, 72, 73, 74, 75, 76, 77,\n",
       "       78, 79, 80, 81, 82, 83, 84, 85, 86, 87, 88, 89, 90, 91, 92, 93, 94,\n",
       "       95, 96, 97, 98, 99])"
      ]
     },
     "execution_count": 126,
     "metadata": {},
     "output_type": "execute_result"
    }
   ],
   "source": [
    "arr=np.arange(10,100)\n",
    "arr"
   ]
  },
  {
   "cell_type": "code",
   "execution_count": 128,
   "id": "17cadaf7-858c-4de0-a955-cc6f1c499047",
   "metadata": {
    "panel-layout": {
     "height": 9.5367431640625e-07,
     "visible": true,
     "width": 100
    }
   },
   "outputs": [
    {
     "name": "stdout",
     "output_type": "stream",
     "text": [
      "[[0. 0. 0. 0. 0.]\n",
      " [0. 0. 0. 0. 0.]\n",
      " [0. 0. 0. 0. 0.]\n",
      " [0. 0. 0. 0. 0.]\n",
      " [0. 0. 0. 0. 0.]]\n"
     ]
    }
   ],
   "source": [
    "arr=np.zeros((5,5))\n",
    "print(arr)"
   ]
  },
  {
   "cell_type": "code",
   "execution_count": 130,
   "id": "be81ae25-82ad-46a1-b5e3-78e508dc2742",
   "metadata": {
    "panel-layout": {
     "height": 9.5367431640625e-07,
     "visible": true,
     "width": 100
    }
   },
   "outputs": [
    {
     "name": "stdout",
     "output_type": "stream",
     "text": [
      "[ 0.  5. 10. 15. 20.]\n"
     ]
    }
   ],
   "source": [
    "v=np.linspace(0,20,5)\n",
    "print(v)"
   ]
  },
  {
   "cell_type": "code",
   "execution_count": 132,
   "id": "1e4d8e05-7ffd-42f4-aa76-aaa2e0a57046",
   "metadata": {
    "panel-layout": {
     "height": 9.5367431640625e-07,
     "visible": true,
     "width": 100
    }
   },
   "outputs": [
    {
     "name": "stdout",
     "output_type": "stream",
     "text": [
      "[1 2 3]\n"
     ]
    }
   ],
   "source": [
    "x=[1,2,3]\n",
    "a=np.asarray(x)\n",
    "print(a)"
   ]
  },
  {
   "cell_type": "code",
   "execution_count": 134,
   "id": "98491c2a-9569-43b9-81ab-bf41cde3c608",
   "metadata": {
    "panel-layout": {
     "height": 9.5367431640625e-07,
     "visible": true,
     "width": 100
    }
   },
   "outputs": [
    {
     "name": "stdout",
     "output_type": "stream",
     "text": [
      "[[[0. 0.]\n",
      "  [0. 0.]]\n",
      "\n",
      " [[0. 0.]\n",
      "  [0. 0.]]]\n"
     ]
    }
   ],
   "source": [
    "arr=np.zeros(8)\n",
    "arr3d=arr.reshape((2,2,2))\n",
    "\n",
    "print(arr3d)"
   ]
  },
  {
   "cell_type": "code",
   "execution_count": 136,
   "id": "3c9569a2-e2b1-4839-bc28-fdafb9f1d23c",
   "metadata": {
    "panel-layout": {
     "height": 9.5367431640625e-07,
     "visible": true,
     "width": 100
    }
   },
   "outputs": [
    {
     "name": "stdout",
     "output_type": "stream",
     "text": [
      "[1 3 5 7 9]\n"
     ]
    }
   ],
   "source": [
    "arr=np.arange(20)\n",
    "arr_slice=slice(1,10,2)\n",
    "element=arr[6]\n",
    "print(arr[arr_slice])"
   ]
  }
 ],
 "metadata": {
  "kernelspec": {
   "display_name": "Python [conda env:base] *",
   "language": "python",
   "name": "conda-base-py"
  },
  "language_info": {
   "codemirror_mode": {
    "name": "ipython",
    "version": 3
   },
   "file_extension": ".py",
   "mimetype": "text/x-python",
   "name": "python",
   "nbconvert_exporter": "python",
   "pygments_lexer": "ipython3",
   "version": "3.12.4"
  },
  "panel-cell-order": [
   "47064c14-34b9-4206-82a0-3627119d85fc",
   "64bfccf2-1847-4e14-901b-c85bfb3406f0",
   "07b99a1a-96ca-4dac-8f3f-7c53a5b6a4b7",
   "9e228639-8e45-4acf-93b3-3310802a626d",
   "bcbc0e1e-7e58-442e-bc74-3fe11b133a9a",
   "915d6047-79d5-43be-b265-c0a22f80daf5",
   "7cde9549-ea5e-45cf-bddd-b2d0393e7b7f",
   "e46bc6ee-711a-4aa6-9f38-449795ff211c",
   "9976536c-35cf-440d-839c-6205908ddac8",
   "06eecd71-5fce-43a6-8331-3756ec6a7b56",
   "c6a3ed7b-5290-4a4a-9a98-1ba0f6809e64",
   "3be7507c-2b40-4c9b-bbbf-ea448e17f92a",
   "8abe65ee-419f-4d0a-a220-53c92cb20024",
   "f3b48038-0c56-47d5-9b9d-a57b0c2df30c",
   "b724bbca-7482-43db-b6c3-0679149b5bb2",
   "21bc4a1a-fae7-4602-ad6a-a500813a7f22",
   "435d095c-9eb1-4d28-922a-1ce11a49cc95",
   "17cadaf7-858c-4de0-a955-cc6f1c499047",
   "be81ae25-82ad-46a1-b5e3-78e508dc2742",
   "1e4d8e05-7ffd-42f4-aa76-aaa2e0a57046",
   "98491c2a-9569-43b9-81ab-bf41cde3c608",
   "3c9569a2-e2b1-4839-bc28-fdafb9f1d23c"
  ]
 },
 "nbformat": 4,
 "nbformat_minor": 5
}
