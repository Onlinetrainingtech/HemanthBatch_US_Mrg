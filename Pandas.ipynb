{
 "cells": [
  {
   "cell_type": "code",
   "execution_count": 1,
   "id": "0e8e0ab0-33aa-44c8-878b-63707585cac9",
   "metadata": {},
   "outputs": [
    {
     "name": "stdout",
     "output_type": "stream",
     "text": [
      "0     1\n",
      "1     7\n",
      "2    10\n",
      "dtype: int64\n"
     ]
    }
   ],
   "source": [
    "import pandas as pd\n",
    "a=[1,7,10]\n",
    "my1=pd.Series(a)\n",
    "print(my1)"
   ]
  },
  {
   "cell_type": "code",
   "execution_count": 3,
   "id": "65bbbc33-849c-4b50-a403-cadc57dda21d",
   "metadata": {},
   "outputs": [
    {
     "name": "stdout",
     "output_type": "stream",
     "text": [
      "1\n"
     ]
    }
   ],
   "source": [
    "print(my1[0])"
   ]
  },
  {
   "cell_type": "code",
   "execution_count": 5,
   "id": "ae568499-48ac-4271-a7f0-7f35a158a04d",
   "metadata": {},
   "outputs": [
    {
     "name": "stdout",
     "output_type": "stream",
     "text": [
      "X     1\n",
      "Y     7\n",
      "Z    10\n",
      "dtype: int64\n"
     ]
    }
   ],
   "source": [
    "my1=pd.Series(a,index=[\"X\",\"Y\",\"Z\"])\n",
    "print(my1)"
   ]
  },
  {
   "cell_type": "code",
   "execution_count": 7,
   "id": "a2739f5f-9d35-489c-bb23-21617fbd34dc",
   "metadata": {},
   "outputs": [
    {
     "name": "stdout",
     "output_type": "stream",
     "text": [
      "101       azar\n",
      "102    mohamed\n",
      "dtype: object\n"
     ]
    }
   ],
   "source": [
    "my2={101:\"azar\",102:\"mohamed\",103:\"raja\"}\n",
    "result=pd.Series(my2,index=[101,102])\n",
    "print(result)"
   ]
  },
  {
   "cell_type": "code",
   "execution_count": null,
   "id": "fd1a527b-ea43-4d7d-b08f-4262083e1b5d",
   "metadata": {},
   "outputs": [],
   "source": [
    "#DataFrames"
   ]
  },
  {
   "cell_type": "code",
   "execution_count": 9,
   "id": "fa5b5df5-7a8d-4ad2-a576-43cf24686c98",
   "metadata": {},
   "outputs": [
    {
     "name": "stdout",
     "output_type": "stream",
     "text": [
      "    c1   c2\n",
      "0  100  400\n",
      "1  200  500\n",
      "2  300  600\n"
     ]
    }
   ],
   "source": [
    "data={\"c1\":[100,200,300],\"c2\":[400,500,600]}\n",
    "my1=pd.DataFrame(data)\n",
    "print(my1)"
   ]
  },
  {
   "cell_type": "code",
   "execution_count": 11,
   "id": "e55cf8f3-f7a9-4055-815c-8194b202dbe9",
   "metadata": {},
   "outputs": [
    {
     "name": "stdout",
     "output_type": "stream",
     "text": [
      "c1    100\n",
      "c2    400\n",
      "Name: 0, dtype: int64\n"
     ]
    }
   ],
   "source": [
    "#LocateRows\n",
    "print(my1.loc[0])"
   ]
  },
  {
   "cell_type": "code",
   "execution_count": 13,
   "id": "2f38e815-e717-4039-9b45-7fa9f692d5de",
   "metadata": {},
   "outputs": [
    {
     "name": "stdout",
     "output_type": "stream",
     "text": [
      "     c1   c2\n",
      "d1  100  400\n",
      "d2  200  500\n",
      "d3  300  600\n"
     ]
    }
   ],
   "source": [
    "my2=pd.DataFrame(data,index=[\"d1\",\"d2\",\"d3\"])\n",
    "print(my2)"
   ]
  },
  {
   "cell_type": "code",
   "execution_count": 15,
   "id": "1863ce57-91c6-4c88-9334-5b3352c39c65",
   "metadata": {},
   "outputs": [
    {
     "name": "stdout",
     "output_type": "stream",
     "text": [
      "c1    100\n",
      "c2    400\n",
      "Name: d1, dtype: int64\n"
     ]
    }
   ],
   "source": [
    "print(my2.loc[\"d1\"])"
   ]
  },
  {
   "cell_type": "code",
   "execution_count": 17,
   "id": "7865297f-2079-4f09-80d6-081e8975150c",
   "metadata": {},
   "outputs": [
    {
     "data": {
      "text/html": [
       "<div>\n",
       "<style scoped>\n",
       "    .dataframe tbody tr th:only-of-type {\n",
       "        vertical-align: middle;\n",
       "    }\n",
       "\n",
       "    .dataframe tbody tr th {\n",
       "        vertical-align: top;\n",
       "    }\n",
       "\n",
       "    .dataframe thead th {\n",
       "        text-align: right;\n",
       "    }\n",
       "</style>\n",
       "<table border=\"1\" class=\"dataframe\">\n",
       "  <thead>\n",
       "    <tr style=\"text-align: right;\">\n",
       "      <th></th>\n",
       "      <th>Position</th>\n",
       "      <th>Level</th>\n",
       "      <th>Salary</th>\n",
       "    </tr>\n",
       "  </thead>\n",
       "  <tbody>\n",
       "    <tr>\n",
       "      <th>0</th>\n",
       "      <td>Business Analyst</td>\n",
       "      <td>1</td>\n",
       "      <td>45000</td>\n",
       "    </tr>\n",
       "    <tr>\n",
       "      <th>1</th>\n",
       "      <td>Junior Consultant</td>\n",
       "      <td>2</td>\n",
       "      <td>50000</td>\n",
       "    </tr>\n",
       "    <tr>\n",
       "      <th>2</th>\n",
       "      <td>Senior Consultant</td>\n",
       "      <td>3</td>\n",
       "      <td>60000</td>\n",
       "    </tr>\n",
       "    <tr>\n",
       "      <th>3</th>\n",
       "      <td>Manager</td>\n",
       "      <td>4</td>\n",
       "      <td>80000</td>\n",
       "    </tr>\n",
       "    <tr>\n",
       "      <th>4</th>\n",
       "      <td>Country Manager</td>\n",
       "      <td>5</td>\n",
       "      <td>110000</td>\n",
       "    </tr>\n",
       "    <tr>\n",
       "      <th>5</th>\n",
       "      <td>Regional Manager</td>\n",
       "      <td>6</td>\n",
       "      <td>150000</td>\n",
       "    </tr>\n",
       "    <tr>\n",
       "      <th>6</th>\n",
       "      <td>Partner</td>\n",
       "      <td>7</td>\n",
       "      <td>200000</td>\n",
       "    </tr>\n",
       "    <tr>\n",
       "      <th>7</th>\n",
       "      <td>Senior Partner</td>\n",
       "      <td>8</td>\n",
       "      <td>300000</td>\n",
       "    </tr>\n",
       "    <tr>\n",
       "      <th>8</th>\n",
       "      <td>C-level</td>\n",
       "      <td>9</td>\n",
       "      <td>500000</td>\n",
       "    </tr>\n",
       "    <tr>\n",
       "      <th>9</th>\n",
       "      <td>CEO</td>\n",
       "      <td>10</td>\n",
       "      <td>1000000</td>\n",
       "    </tr>\n",
       "  </tbody>\n",
       "</table>\n",
       "</div>"
      ],
      "text/plain": [
       "            Position  Level   Salary\n",
       "0   Business Analyst      1    45000\n",
       "1  Junior Consultant      2    50000\n",
       "2  Senior Consultant      3    60000\n",
       "3            Manager      4    80000\n",
       "4    Country Manager      5   110000\n",
       "5   Regional Manager      6   150000\n",
       "6            Partner      7   200000\n",
       "7     Senior Partner      8   300000\n",
       "8            C-level      9   500000\n",
       "9                CEO     10  1000000"
      ]
     },
     "execution_count": 17,
     "metadata": {},
     "output_type": "execute_result"
    }
   ],
   "source": [
    "df=pd.read_csv(\"Datasets/Position_Salaries.csv\")\n",
    "df"
   ]
  },
  {
   "cell_type": "code",
   "execution_count": 19,
   "id": "2b1b55bb-aab2-4b79-8ec2-173f9f2d5bca",
   "metadata": {},
   "outputs": [
    {
     "name": "stdout",
     "output_type": "stream",
     "text": [
      "0\n"
     ]
    }
   ],
   "source": [
    "print(pd.options.display.max_columns)"
   ]
  },
  {
   "cell_type": "code",
   "execution_count": 21,
   "id": "462264c3-b296-4633-9aa3-003bed36b5fd",
   "metadata": {},
   "outputs": [
    {
     "name": "stdout",
     "output_type": "stream",
     "text": [
      "10\n"
     ]
    }
   ],
   "source": [
    "print(pd.options.display.min_rows)"
   ]
  },
  {
   "cell_type": "code",
   "execution_count": 25,
   "id": "58a6a081-71cd-4921-9499-b379df97b249",
   "metadata": {},
   "outputs": [
    {
     "name": "stdout",
     "output_type": "stream",
     "text": [
      "   One  two\n",
      "a    1    1\n",
      "b    2    2\n",
      "c    3    3\n",
      "d    4    4\n"
     ]
    }
   ],
   "source": [
    "import pandas as pd\n",
    "data={'One':pd.Series([1,2,3,4],index=['a','b','c','d']),\n",
    "     'two':pd.Series([1,2,3,4],index=['a','b','c','d'])}\n",
    "table=pd.DataFrame(data)\n",
    "print(table)"
   ]
  },
  {
   "cell_type": "code",
   "execution_count": 27,
   "id": "e54aa611-9c11-494e-9cc1-99602bc38f90",
   "metadata": {},
   "outputs": [
    {
     "name": "stdout",
     "output_type": "stream",
     "text": [
      "   One  two  three\n",
      "a    1    1     10\n",
      "b    2    2     20\n",
      "c    3    3     30\n",
      "d    4    4     40\n"
     ]
    }
   ],
   "source": [
    "#DataFrame add and delete the column\n",
    "data={'One':pd.Series([1,2,3,4],index=['a','b','c','d']),\n",
    "     'two':pd.Series([1,2,3,4],index=['a','b','c','d'])}\n",
    "table=pd.DataFrame(data)\n",
    "table['three']=pd.Series([10,20,30,40],index=['a','b','c','d'])\n",
    "print(table)"
   ]
  },
  {
   "cell_type": "code",
   "execution_count": 29,
   "id": "e602250a-72e3-4561-87ea-4f6d2637196f",
   "metadata": {},
   "outputs": [
    {
     "name": "stdout",
     "output_type": "stream",
     "text": [
      "   two  three\n",
      "a    1     10\n",
      "b    2     20\n",
      "c    3     30\n",
      "d    4     40\n"
     ]
    }
   ],
   "source": [
    "del table['One']\n",
    "print(table)"
   ]
  },
  {
   "cell_type": "code",
   "execution_count": 31,
   "id": "52d0cfd4-b61c-4e9f-87b5-e48761d77ace",
   "metadata": {},
   "outputs": [
    {
     "name": "stdout",
     "output_type": "stream",
     "text": [
      "   three\n",
      "a     10\n",
      "b     20\n",
      "c     30\n",
      "d     40\n"
     ]
    }
   ],
   "source": [
    "table.pop('two')\n",
    "print(table)"
   ]
  },
  {
   "cell_type": "code",
   "execution_count": null,
   "id": "f259da24-1f8f-4d42-b1b6-5d77337c1bf3",
   "metadata": {},
   "outputs": [],
   "source": [
    "#DataFrames add and delete of rows"
   ]
  },
  {
   "cell_type": "code",
   "execution_count": 33,
   "id": "a5c7b2f3-dfe9-43dd-8262-c183dbbf8faa",
   "metadata": {},
   "outputs": [
    {
     "name": "stdout",
     "output_type": "stream",
     "text": [
      "three    10\n",
      "Name: a, dtype: int64\n",
      "   three\n",
      "a     10\n",
      "b     20\n",
      "c     30\n",
      "d     40\n"
     ]
    }
   ],
   "source": [
    "print(table.loc['a'])\n",
    "print(table)"
   ]
  },
  {
   "cell_type": "code",
   "execution_count": 37,
   "id": "209843be-237e-45e4-8b0a-c04e0aa1e1c8",
   "metadata": {},
   "outputs": [
    {
     "name": "stdout",
     "output_type": "stream",
     "text": [
      "   One  two  three\n",
      "0    1    2      3\n",
      "1    4    5      6\n",
      "2   11   12     13\n",
      "3   14   15     16\n"
     ]
    }
   ],
   "source": [
    "import pandas as pd\n",
    "\n",
    "# Suppose you already have a DataFrame\n",
    "table = pd.DataFrame([[1,2,3],[4,5,6]], columns=['One','two','three'])\n",
    "\n",
    "# New rows to add\n",
    "row = pd.DataFrame([[11,12,13],[14,15,16]], columns=['One','two','three'])\n",
    "\n",
    "# Append using pd.concat\n",
    "table = pd.concat([table, row], ignore_index=True)\n",
    "\n",
    "print(table)"
   ]
  },
  {
   "cell_type": "code",
   "execution_count": 43,
   "id": "de8e3da0-97e7-4ae1-a8fa-000b4420f6a8",
   "metadata": {},
   "outputs": [],
   "source": [
    "table=table.drop(0)"
   ]
  },
  {
   "cell_type": "code",
   "execution_count": 45,
   "id": "08eaea83-d626-44b1-b078-359c3c0685cc",
   "metadata": {},
   "outputs": [
    {
     "data": {
      "text/html": [
       "<div>\n",
       "<style scoped>\n",
       "    .dataframe tbody tr th:only-of-type {\n",
       "        vertical-align: middle;\n",
       "    }\n",
       "\n",
       "    .dataframe tbody tr th {\n",
       "        vertical-align: top;\n",
       "    }\n",
       "\n",
       "    .dataframe thead th {\n",
       "        text-align: right;\n",
       "    }\n",
       "</style>\n",
       "<table border=\"1\" class=\"dataframe\">\n",
       "  <thead>\n",
       "    <tr style=\"text-align: right;\">\n",
       "      <th></th>\n",
       "      <th>One</th>\n",
       "      <th>two</th>\n",
       "      <th>three</th>\n",
       "    </tr>\n",
       "  </thead>\n",
       "  <tbody>\n",
       "    <tr>\n",
       "      <th>1</th>\n",
       "      <td>4</td>\n",
       "      <td>5</td>\n",
       "      <td>6</td>\n",
       "    </tr>\n",
       "    <tr>\n",
       "      <th>2</th>\n",
       "      <td>11</td>\n",
       "      <td>12</td>\n",
       "      <td>13</td>\n",
       "    </tr>\n",
       "    <tr>\n",
       "      <th>3</th>\n",
       "      <td>14</td>\n",
       "      <td>15</td>\n",
       "      <td>16</td>\n",
       "    </tr>\n",
       "  </tbody>\n",
       "</table>\n",
       "</div>"
      ],
      "text/plain": [
       "   One  two  three\n",
       "1    4    5      6\n",
       "2   11   12     13\n",
       "3   14   15     16"
      ]
     },
     "execution_count": 45,
     "metadata": {},
     "output_type": "execute_result"
    }
   ],
   "source": [
    "table"
   ]
  },
  {
   "cell_type": "code",
   "execution_count": 49,
   "id": "f9e9894e-785a-494a-8419-3aa9a6d18381",
   "metadata": {},
   "outputs": [
    {
     "data": {
      "text/html": [
       "<div>\n",
       "<style scoped>\n",
       "    .dataframe tbody tr th:only-of-type {\n",
       "        vertical-align: middle;\n",
       "    }\n",
       "\n",
       "    .dataframe tbody tr th {\n",
       "        vertical-align: top;\n",
       "    }\n",
       "\n",
       "    .dataframe thead th {\n",
       "        text-align: right;\n",
       "    }\n",
       "</style>\n",
       "<table border=\"1\" class=\"dataframe\">\n",
       "  <thead>\n",
       "    <tr style=\"text-align: right;\">\n",
       "      <th></th>\n",
       "      <th>W</th>\n",
       "      <th>X</th>\n",
       "      <th>Y</th>\n",
       "      <th>Z</th>\n",
       "      <th>A</th>\n",
       "    </tr>\n",
       "  </thead>\n",
       "  <tbody>\n",
       "    <tr>\n",
       "      <th>A</th>\n",
       "      <td>0.214562</td>\n",
       "      <td>0.087613</td>\n",
       "      <td>0.524403</td>\n",
       "      <td>0.685126</td>\n",
       "      <td>0.717302</td>\n",
       "    </tr>\n",
       "    <tr>\n",
       "      <th>B</th>\n",
       "      <td>0.849238</td>\n",
       "      <td>0.703643</td>\n",
       "      <td>0.097435</td>\n",
       "      <td>0.262433</td>\n",
       "      <td>0.722612</td>\n",
       "    </tr>\n",
       "    <tr>\n",
       "      <th>C</th>\n",
       "      <td>0.130174</td>\n",
       "      <td>0.081361</td>\n",
       "      <td>0.569926</td>\n",
       "      <td>0.572386</td>\n",
       "      <td>0.214639</td>\n",
       "    </tr>\n",
       "    <tr>\n",
       "      <th>D</th>\n",
       "      <td>0.603261</td>\n",
       "      <td>0.295386</td>\n",
       "      <td>0.831415</td>\n",
       "      <td>0.720924</td>\n",
       "      <td>0.299015</td>\n",
       "    </tr>\n",
       "    <tr>\n",
       "      <th>E</th>\n",
       "      <td>0.086377</td>\n",
       "      <td>0.667174</td>\n",
       "      <td>0.896692</td>\n",
       "      <td>0.890378</td>\n",
       "      <td>0.818619</td>\n",
       "    </tr>\n",
       "  </tbody>\n",
       "</table>\n",
       "</div>"
      ],
      "text/plain": [
       "          W         X         Y         Z         A\n",
       "A  0.214562  0.087613  0.524403  0.685126  0.717302\n",
       "B  0.849238  0.703643  0.097435  0.262433  0.722612\n",
       "C  0.130174  0.081361  0.569926  0.572386  0.214639\n",
       "D  0.603261  0.295386  0.831415  0.720924  0.299015\n",
       "E  0.086377  0.667174  0.896692  0.890378  0.818619"
      ]
     },
     "execution_count": 49,
     "metadata": {},
     "output_type": "execute_result"
    }
   ],
   "source": [
    "df_test=pd.DataFrame(np.random.rand(5,5),['A','B','C','D','E'],['W','X','Y','Z','A'])\n",
    "df_test"
   ]
  },
  {
   "cell_type": "code",
   "execution_count": 51,
   "id": "2a1aaafe-13b2-40ce-8c52-2f728e6ec6bd",
   "metadata": {},
   "outputs": [
    {
     "name": "stdout",
     "output_type": "stream",
     "text": [
      "          W         A\n",
      "A  0.214562  0.717302\n",
      "B  0.849238  0.722612\n",
      "C  0.130174  0.214639\n",
      "D  0.603261  0.299015\n",
      "E  0.086377  0.818619\n"
     ]
    }
   ],
   "source": [
    "print(df_test[['W','A']])"
   ]
  },
  {
   "cell_type": "code",
   "execution_count": 53,
   "id": "75a85575-b9e0-4c28-81d3-f119ce2635dc",
   "metadata": {},
   "outputs": [
    {
     "name": "stdout",
     "output_type": "stream",
     "text": [
      "W    0.214562\n",
      "X    0.087613\n",
      "Y    0.524403\n",
      "Z    0.685126\n",
      "A    0.717302\n",
      "Name: A, dtype: float64\n"
     ]
    }
   ],
   "source": [
    "print(df_test.loc['A'])"
   ]
  },
  {
   "cell_type": "code",
   "execution_count": 55,
   "id": "e6dc9df8-876d-4277-a8d2-1f2e4288583c",
   "metadata": {},
   "outputs": [
    {
     "name": "stdout",
     "output_type": "stream",
     "text": [
      "          W\n",
      "A  0.214562\n"
     ]
    }
   ],
   "source": [
    "print(df_test.loc[['A'],['W']])"
   ]
  },
  {
   "cell_type": "code",
   "execution_count": 57,
   "id": "cd998167-7cd7-460d-98c0-d75bd1b439c9",
   "metadata": {},
   "outputs": [
    {
     "data": {
      "text/html": [
       "<div>\n",
       "<style scoped>\n",
       "    .dataframe tbody tr th:only-of-type {\n",
       "        vertical-align: middle;\n",
       "    }\n",
       "\n",
       "    .dataframe tbody tr th {\n",
       "        vertical-align: top;\n",
       "    }\n",
       "\n",
       "    .dataframe thead th {\n",
       "        text-align: right;\n",
       "    }\n",
       "</style>\n",
       "<table border=\"1\" class=\"dataframe\">\n",
       "  <thead>\n",
       "    <tr style=\"text-align: right;\">\n",
       "      <th></th>\n",
       "      <th>W</th>\n",
       "      <th>X</th>\n",
       "      <th>Y</th>\n",
       "      <th>Z</th>\n",
       "      <th>A</th>\n",
       "      <th>NEWCOL</th>\n",
       "    </tr>\n",
       "  </thead>\n",
       "  <tbody>\n",
       "    <tr>\n",
       "      <th>A</th>\n",
       "      <td>0.214562</td>\n",
       "      <td>0.087613</td>\n",
       "      <td>0.524403</td>\n",
       "      <td>0.685126</td>\n",
       "      <td>0.717302</td>\n",
       "      <td>0.302175</td>\n",
       "    </tr>\n",
       "    <tr>\n",
       "      <th>B</th>\n",
       "      <td>0.849238</td>\n",
       "      <td>0.703643</td>\n",
       "      <td>0.097435</td>\n",
       "      <td>0.262433</td>\n",
       "      <td>0.722612</td>\n",
       "      <td>1.552881</td>\n",
       "    </tr>\n",
       "    <tr>\n",
       "      <th>C</th>\n",
       "      <td>0.130174</td>\n",
       "      <td>0.081361</td>\n",
       "      <td>0.569926</td>\n",
       "      <td>0.572386</td>\n",
       "      <td>0.214639</td>\n",
       "      <td>0.211536</td>\n",
       "    </tr>\n",
       "    <tr>\n",
       "      <th>D</th>\n",
       "      <td>0.603261</td>\n",
       "      <td>0.295386</td>\n",
       "      <td>0.831415</td>\n",
       "      <td>0.720924</td>\n",
       "      <td>0.299015</td>\n",
       "      <td>0.898647</td>\n",
       "    </tr>\n",
       "    <tr>\n",
       "      <th>E</th>\n",
       "      <td>0.086377</td>\n",
       "      <td>0.667174</td>\n",
       "      <td>0.896692</td>\n",
       "      <td>0.890378</td>\n",
       "      <td>0.818619</td>\n",
       "      <td>0.753551</td>\n",
       "    </tr>\n",
       "  </tbody>\n",
       "</table>\n",
       "</div>"
      ],
      "text/plain": [
       "          W         X         Y         Z         A    NEWCOL\n",
       "A  0.214562  0.087613  0.524403  0.685126  0.717302  0.302175\n",
       "B  0.849238  0.703643  0.097435  0.262433  0.722612  1.552881\n",
       "C  0.130174  0.081361  0.569926  0.572386  0.214639  0.211536\n",
       "D  0.603261  0.295386  0.831415  0.720924  0.299015  0.898647\n",
       "E  0.086377  0.667174  0.896692  0.890378  0.818619  0.753551"
      ]
     },
     "execution_count": 57,
     "metadata": {},
     "output_type": "execute_result"
    }
   ],
   "source": [
    "df_test['NEWCOL']=df_test['W']+df_test['X']\n",
    "df_test"
   ]
  },
  {
   "cell_type": "code",
   "execution_count": 59,
   "id": "1fd17806-c5d8-4dcf-ac6a-6ea93357bf9a",
   "metadata": {},
   "outputs": [
    {
     "data": {
      "text/plain": [
       "(5, 6)"
      ]
     },
     "execution_count": 59,
     "metadata": {},
     "output_type": "execute_result"
    }
   ],
   "source": [
    "df_test.shape"
   ]
  },
  {
   "cell_type": "code",
   "execution_count": 61,
   "id": "3e21c638-f17a-483c-a4f5-4886fdb4ca81",
   "metadata": {},
   "outputs": [
    {
     "name": "stdout",
     "output_type": "stream",
     "text": [
      "          W         X         Y         Z         A    NEWCOL\n",
      "B  0.849238  0.703643  0.097435  0.262433  0.722612  1.552881\n"
     ]
    }
   ],
   "source": [
    "print(df_test[(df_test['NEWCOL']>1)])"
   ]
  },
  {
   "cell_type": "code",
   "execution_count": 63,
   "id": "133c6bbb-c894-4218-a2fe-7df5d60e9044",
   "metadata": {},
   "outputs": [
    {
     "data": {
      "text/html": [
       "<div>\n",
       "<style scoped>\n",
       "    .dataframe tbody tr th:only-of-type {\n",
       "        vertical-align: middle;\n",
       "    }\n",
       "\n",
       "    .dataframe tbody tr th {\n",
       "        vertical-align: top;\n",
       "    }\n",
       "\n",
       "    .dataframe thead th {\n",
       "        text-align: right;\n",
       "    }\n",
       "</style>\n",
       "<table border=\"1\" class=\"dataframe\">\n",
       "  <thead>\n",
       "    <tr style=\"text-align: right;\">\n",
       "      <th></th>\n",
       "      <th>W</th>\n",
       "      <th>X</th>\n",
       "      <th>Y</th>\n",
       "      <th>Z</th>\n",
       "      <th>A</th>\n",
       "      <th>NEWCOL</th>\n",
       "    </tr>\n",
       "  </thead>\n",
       "  <tbody>\n",
       "    <tr>\n",
       "      <th>A</th>\n",
       "      <td>0.214562</td>\n",
       "      <td>0.087613</td>\n",
       "      <td>0.524403</td>\n",
       "      <td>0.685126</td>\n",
       "      <td>0.717302</td>\n",
       "      <td>0.302175</td>\n",
       "    </tr>\n",
       "    <tr>\n",
       "      <th>B</th>\n",
       "      <td>0.849238</td>\n",
       "      <td>0.703643</td>\n",
       "      <td>0.097435</td>\n",
       "      <td>0.262433</td>\n",
       "      <td>0.722612</td>\n",
       "      <td>1.552881</td>\n",
       "    </tr>\n",
       "    <tr>\n",
       "      <th>C</th>\n",
       "      <td>0.130174</td>\n",
       "      <td>0.081361</td>\n",
       "      <td>0.569926</td>\n",
       "      <td>0.572386</td>\n",
       "      <td>0.214639</td>\n",
       "      <td>0.211536</td>\n",
       "    </tr>\n",
       "    <tr>\n",
       "      <th>D</th>\n",
       "      <td>0.603261</td>\n",
       "      <td>0.295386</td>\n",
       "      <td>0.831415</td>\n",
       "      <td>0.720924</td>\n",
       "      <td>0.299015</td>\n",
       "      <td>0.898647</td>\n",
       "    </tr>\n",
       "    <tr>\n",
       "      <th>E</th>\n",
       "      <td>0.086377</td>\n",
       "      <td>0.667174</td>\n",
       "      <td>0.896692</td>\n",
       "      <td>0.890378</td>\n",
       "      <td>0.818619</td>\n",
       "      <td>0.753551</td>\n",
       "    </tr>\n",
       "  </tbody>\n",
       "</table>\n",
       "</div>"
      ],
      "text/plain": [
       "          W         X         Y         Z         A    NEWCOL\n",
       "A  0.214562  0.087613  0.524403  0.685126  0.717302  0.302175\n",
       "B  0.849238  0.703643  0.097435  0.262433  0.722612  1.552881\n",
       "C  0.130174  0.081361  0.569926  0.572386  0.214639  0.211536\n",
       "D  0.603261  0.295386  0.831415  0.720924  0.299015  0.898647\n",
       "E  0.086377  0.667174  0.896692  0.890378  0.818619  0.753551"
      ]
     },
     "execution_count": 63,
     "metadata": {},
     "output_type": "execute_result"
    }
   ],
   "source": [
    "df_test.to_excel('test1.xlsx',sheet_name=\"mysheet\")\n",
    "df_test"
   ]
  }
 ],
 "metadata": {
  "kernelspec": {
   "display_name": "Python [conda env:base] *",
   "language": "python",
   "name": "conda-base-py"
  },
  "language_info": {
   "codemirror_mode": {
    "name": "ipython",
    "version": 3
   },
   "file_extension": ".py",
   "mimetype": "text/x-python",
   "name": "python",
   "nbconvert_exporter": "python",
   "pygments_lexer": "ipython3",
   "version": "3.12.4"
  }
 },
 "nbformat": 4,
 "nbformat_minor": 5
}
